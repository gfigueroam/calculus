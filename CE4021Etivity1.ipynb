{
 "cells": [
  {
   "cell_type": "markdown",
   "metadata": {},
   "source": [
    "Your name: Gloria Figueroa"
   ]
  },
  {
   "cell_type": "markdown",
   "metadata": {},
   "source": [
    "Your ID number: 19226225"
   ]
  },
  {
   "cell_type": "markdown",
   "metadata": {},
   "source": [
    "1. Calculate the derivative of a polynomial with one variable\n",
    "2. Evaluate of a polynomial for a given value of its variable\n",
    "3. Test with 3 different polynomials"
   ]
  },
  {
   "cell_type": "markdown",
   "metadata": {},
   "source": [
    "In order to solve the derivative of a polynomial function I am treating the coeficients and exponents as a vectors,\n",
    "and using vectorization to solve the multiplication and addition from the power rule.\n",
    "\"poly\" is defined as an list of cohefficients and exponents with the following structure: [[cohefficients],[exponents]], where coheficients is a list of floats and exponents is a list of integers.  "
   ]
  },
  {
   "cell_type": "code",
   "execution_count": 8,
   "metadata": {},
   "outputs": [],
   "source": [
    "# %load calculus.py\n",
    "def get_coefs_exps(poly):\n",
    "   \"\"\"Returns coefs and exps from a polynomial\"\"\"\n",
    "   coefs= poly[0]  #coefficients of the polynomial terms\n",
    "   exps = poly[1]  #exponentials of the polynomial terms\n",
    "   return coefs,exps\n",
    "\n",
    "def construct_poly(coefs,exps):\n",
    "    \"\"\"Return an poly object as a list of coefficients and exponents\"\"\"\n",
    "    poly = []\n",
    "    poly.append(coefs)\n",
    "    poly.append(exps)\n",
    "    return poly\n",
    "\n",
    "def mult(a,b):\n",
    "   \"\"\"Returns the array resulting of element-wise multiplying two arrays\"\"\"\n",
    "   return list(map(lambda element_a, element_b: element_a * element_b,a,b))\n",
    "\n",
    "def add(a,num_to_add):\n",
    "   \"\"\"Returns the array resulting of adding the value of num_to_add to each element of the array\"\"\"\n",
    "   return [element_a+num_to_add for element_a in a]  \n",
    "\n",
    "def get_derivative(poly):\n",
    "   \"\"\"Returns the derivative of a polynomial using the power rule, \n",
    "      the polynomial is defined as an array of coefficients and exponents, \n",
    "      where coeficients is an array of floats and exponents is an array of integers.\n",
    "      \"poly\" has the following structure [[cohefficients],[exponents]]\n",
    "      example: \n",
    "      2x3 + 4x2 + -1.5x6 -> [[2,4,-1.5],[3,2,6]]\n",
    "   \"\"\"\n",
    "   print(\"Calculating derivative...\")\n",
    "   coefs,exps = get_coefs_exps(poly)\n",
    "   #calculating the derivate coefs by mulply coefs by exps\n",
    "   derivate_coefs = mult(coefs,exps)\n",
    "   #calculating the derivate exps by substracting 1 to original exps\n",
    "   derivate_exps = add(exps,-1)\n",
    "   #contruct a polynomial representation from the results\n",
    "   deriv = construct_poly(derivate_coefs,derivate_exps)\n",
    "   return deriv\n",
    "\n",
    "def evaluate_poly(poly,x_value):\n",
    "   \"\"\"Evalute a polynomial function at a given point\"\"\"\n",
    "   print(\"Evaluating polynomial...\")\n",
    "   coefs,exps = get_coefs_exps(poly)\n",
    "   #Evaluating each term cx^e and adding them all\n",
    "   result = sum(list(map(lambda c,e: c * x_value**e,coefs,exps)))\n",
    "   return result\n",
    "\n",
    "def poly_to_string(poly):\n",
    "   \"\"\"Transforms a polynomial expression defined as a list of [coefficients,exponents] to a string\"\"\"\n",
    "   coefs,exps = get_coefs_exps(poly)\n",
    "   result= \" + \".join([str(coefs[i]) + \"xˆ\" + str(exps[i]) for i in range(len(coefs))])\n",
    "   return result \n",
    "\t\n",
    "def test_derivative(poly,x_value):\n",
    "    print(\"f(x) = \" + poly_to_string(poly))\n",
    "    deriv = get_derivative(poly)\n",
    "    print(\"f'(x) = \" + poly_to_string(deriv))\n",
    "    slope = evaluate_poly(deriv,x_value)\n",
    "    print(\"f'(\" + str(x_value) + \") = \" + str(slope))\n",
    "    "
   ]
  },
  {
   "cell_type": "markdown",
   "metadata": {},
   "source": [
    "Testing the derivative of 3 polynomials and the evaluation of the derivative at a given point"
   ]
  },
  {
   "cell_type": "code",
   "execution_count": 9,
   "metadata": {},
   "outputs": [],
   "source": [
    "poly1 = [(3,-4,7),(3,2,1)] \n",
    "# f(x) = 3xˆ3 + -4xˆ2 + 7xˆ1  \n",
    "# f'(x) = 9xˆ2 + -8x +7\n",
    "# f'(7) = 9(7)^2 + -8(7) + 7 = 441 + -56 + 7  = 392\n",
    "\n",
    "poly2 = [[6,3,9],[5,2,1]]      \n",
    "# f(x) = 6xˆ5 + 3xˆ2 + 9x        \n",
    "# f'(x) = 30xˆ4 + 6x + 9\n",
    "# f'(0) = 30(0)ˆ4 + 6(0) + 9 = 9\n",
    "\n",
    "poly3 = [[1.5,10,4],[100,5,2]] \n",
    "# f(x) = 1.5xˆ100 + 10xˆ5 + 4xˆ2 \n",
    "# f'(x) =  150xˆ99 + 50xˆ4 + 8x\n",
    "# f'(5) = 150(5)ˆ99 + 50(5)ˆ4 + 8x = 2.366e+71 + 625 + 40 = 2.366e+71\n",
    "\n",
    "value1 = 7\n",
    "value2 = 0\n",
    "value3 = 5"
   ]
  },
  {
   "cell_type": "code",
   "execution_count": 10,
   "metadata": {
    "scrolled": true
   },
   "outputs": [
    {
     "name": "stdout",
     "output_type": "stream",
     "text": [
      "\n",
      "-----------Test 1--------------\n",
      "f(x) = 3xˆ3 + -4xˆ2 + 7xˆ1\n",
      "Calculating derivative...\n",
      "f'(x) = 9xˆ2 + -8xˆ1 + 7xˆ0\n",
      "Evaluating polynomial...\n",
      "f'(7) = 392\n",
      "\n",
      "-----------Test 2--------------\n",
      "f(x) = 6xˆ5 + 3xˆ2 + 9xˆ1\n",
      "Calculating derivative...\n",
      "f'(x) = 30xˆ4 + 6xˆ1 + 9xˆ0\n",
      "Evaluating polynomial...\n",
      "f'(0) = 9\n",
      "\n",
      "-----------Test 3--------------\n",
      "f(x) = 1.5xˆ100 + 10xˆ5 + 4xˆ2\n",
      "Calculating derivative...\n",
      "f'(x) = 150.0xˆ99 + 50xˆ4 + 8xˆ1\n",
      "Evaluating polynomial...\n",
      "f'(5) = 2.3665827156630354e+71\n"
     ]
    }
   ],
   "source": [
    "print(\"\\n-----------Test 1--------------\")\n",
    "test_derivative(poly1, value1)\n",
    "print(\"\\n-----------Test 2--------------\")\n",
    "test_derivative(poly2, value2)\n",
    "print(\"\\n-----------Test 3--------------\")\n",
    "test_derivative(poly3, value3)"
   ]
  }
 ],
 "metadata": {
  "kernelspec": {
   "display_name": "Python 3",
   "language": "python",
   "name": "python3"
  },
  "language_info": {
   "codemirror_mode": {
    "name": "ipython",
    "version": 3
   },
   "file_extension": ".py",
   "mimetype": "text/x-python",
   "name": "python",
   "nbconvert_exporter": "python",
   "pygments_lexer": "ipython3",
   "version": "3.7.3"
  }
 },
 "nbformat": 4,
 "nbformat_minor": 2
}
